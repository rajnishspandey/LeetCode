{
 "cells": [
  {
   "cell_type": "code",
   "execution_count": 54,
   "id": "7af1ecaf-b01e-4fea-bb6e-cfea4a1033b0",
   "metadata": {},
   "outputs": [
    {
     "data": {
      "text/plain": [
       "False"
      ]
     },
     "execution_count": 54,
     "metadata": {},
     "output_type": "execute_result"
    }
   ],
   "source": [
    "class Solution:\n",
    "    def canPlaceFlowers(self, flowerbed, n) -> bool:\n",
    "        for i, flower in enumerate(flowerbed):\n",
    "            if flower == 0 and (i == 0 or flowerbed[i - 1] == 0) and (i == len(flowerbed) - 1 or flowerbed[i + 1] == 0):\n",
    "                flowerbed[i] = 1\n",
    "                n -= 1\n",
    "            if n <= 0:\n",
    "                return True\n",
    "        \n",
    "        return False  \n",
    "\n",
    "obj = Solution()\n",
    "obj.canPlaceFlowers([0,1,0,1,0], 1)"
   ]
  },
  {
   "cell_type": "code",
   "execution_count": 64,
   "id": "cfe46797-44f1-41b7-a522-76cd30a524e8",
   "metadata": {},
   "outputs": [
    {
     "name": "stdout",
     "output_type": "stream",
     "text": [
      "[[], [1], [2], [1, 2], [3], [1, 3], [2, 3], [1, 2, 3]]\n"
     ]
    }
   ],
   "source": [
    "# Write a program to find all subsets of a given set.\n",
    "def subsets(nums):\n",
    "    result = [[]]\n",
    "    for num in nums:\n",
    "        result += [item + [num] for item in result]\n",
    "    return result\n",
    "\n",
    "my_set = [1, 2, 3]\n",
    "print(subsets(my_set))\n"
   ]
  },
  {
   "cell_type": "code",
   "execution_count": 72,
   "id": "a58f8045-79d2-4709-94e7-790c9adc372a",
   "metadata": {},
   "outputs": [
    {
     "name": "stdout",
     "output_type": "stream",
     "text": [
      "Length of LIS: 4\n"
     ]
    }
   ],
   "source": [
    "# Write a program to find the longest increasing subsequence in a given list.\n",
    "def lis(nums):\n",
    "    if not nums:\n",
    "        return []\n",
    "    dp = [1] * len(nums)\n",
    "    for i in range(len(nums)):\n",
    "        for j in range(i):\n",
    "            if nums[i] > nums[j]:\n",
    "                dp[i] = max(dp[i], dp[j] + 1)\n",
    "    return max(dp)\n",
    "\n",
    "my_list = [10, 9, 2, 5, 3, 7, 101, 18]\n",
    "print(\"Length of LIS:\", lis(my_list))\n"
   ]
  },
  {
   "cell_type": "code",
   "execution_count": 74,
   "id": "41718beb-1740-4a3c-a611-70cfbc9f7f20",
   "metadata": {},
   "outputs": [
    {
     "name": "stdout",
     "output_type": "stream",
     "text": [
      "Spiral order: [1, 2, 3, 6, 9, 8, 7, 4, 5]\n"
     ]
    }
   ],
   "source": [
    "# Write a program to print a given matrix in spiral order.\n",
    "\n",
    "def spiral_order(matrix):\n",
    "    result = []\n",
    "    while matrix:\n",
    "        result += matrix.pop(0)\n",
    "        if matrix and matrix[0]:\n",
    "            for row in matrix:\n",
    "                result.append(row.pop())\n",
    "        if matrix:\n",
    "            result += matrix.pop()[::-1]\n",
    "        if matrix and matrix[0]:\n",
    "            for row in matrix[::-1]:\n",
    "                result.append(row.pop(0))\n",
    "    return result\n",
    "\n",
    "matrix = [\n",
    "    [1, 2, 3],\n",
    "    [4, 5, 6],\n",
    "    [7, 8, 9]\n",
    "]\n",
    "print(\"Spiral order:\", spiral_order(matrix))\n"
   ]
  }
 ],
 "metadata": {
  "kernelspec": {
   "display_name": "Python 3 (ipykernel)",
   "language": "python",
   "name": "python3"
  },
  "language_info": {
   "codemirror_mode": {
    "name": "ipython",
    "version": 3
   },
   "file_extension": ".py",
   "mimetype": "text/x-python",
   "name": "python",
   "nbconvert_exporter": "python",
   "pygments_lexer": "ipython3",
   "version": "3.12.4"
  }
 },
 "nbformat": 4,
 "nbformat_minor": 5
}
